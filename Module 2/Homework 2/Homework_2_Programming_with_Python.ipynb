{
 "cells": [
  {
   "cell_type": "code",
   "execution_count": 2,
   "id": "ccdef622",
   "metadata": {},
   "outputs": [],
   "source": [
    "import os\n",
    "import csv\n"
   ]
  },
  {
   "cell_type": "code",
   "execution_count": 3,
   "id": "c6d633bd",
   "metadata": {},
   "outputs": [],
   "source": [
    "csvpath = os.path.join('Resources', 'S&P_500_5yr_stock_data.csv')"
   ]
  },
  {
   "cell_type": "code",
   "execution_count": 11,
   "id": "900d6ba7",
   "metadata": {},
   "outputs": [],
   "source": [
    "values_l=[]"
   ]
  },
  {
   "cell_type": "code",
   "execution_count": 12,
   "id": "96832538",
   "metadata": {},
   "outputs": [],
   "source": [
    "\n",
    "with open(csvpath) as csvfile:\n",
    "    csvreader = csv.reader(csvfile, delimiter=',')\n",
    "    csv_header=next(csvreader)                                                           #print(f\"CSV Header: {csv_header}\")   \n",
    "\n",
    "    \n",
    "                                  #--this is the loop and counter--#\n",
    "    for row in csvreader:\n",
    "        #opening_price=(float(row[1][0:8]))                                               # opening price column\n",
    "        #closing_price=(float(row[4][0:8]))    \n",
    "        opening_price=(float(row[1]))                                               # opening price column\n",
    "        closing_price=(float(row[4]))\n",
    "        # closing price\n",
    "        #date=row[0]                                                                 #date \n",
    "#         volume=row[5][0:8]                                                               #volume\n",
    "#         high=row[2][0:8]                                                                 #high\n",
    "#         low=row[3][0:8]                                                                  #low\n",
    "       # percentage=(((closing_price-opening_price)/(opening_price))*100)                 #percentage \n",
    "        abspercentage=round(abs(((closing_price-opening_price)/(opening_price))*100),2)  #percentage (absolute value)\n",
    "        #list[abspercentage]= date,opening_price,closing_price,volume,low,high            #creating dictionary \n",
    "        values_l.append((abspercentage,row))\n",
    "       # value=(list)    \n",
    "      \n",
    "        \n",
    "       #print(f\"The day with the greatest daily percentage change was {['Date']}. On that day the stock changed {print['percentage']}%.\")\n",
    "       #print(f\"The high of that day was {printrow['High']}, and the low was {printrow['Low']}.\")\n",
    "       # print(f\"The the volme for that day was {printrow['Volume']}.\")\n",
    "        #setting max value to \"list max value\""
   ]
  },
  {
   "cell_type": "code",
   "execution_count": 15,
   "id": "05d2fa17",
   "metadata": {},
   "outputs": [
    {
     "data": {
      "text/plain": [
       "[(1.25, ['01/04/2016', '2038.2', '2038.2', '1989.68', '2012.66', '802072115']),\n",
       " (0.15,\n",
       "  ['01/05/2016', '2013.78', '2021.94', '2004.17', '2016.71', '619260483']),\n",
       " (1.07,\n",
       "  ['01/06/2016', '2011.71', '2011.71', '1979.05', '1990.26', '734820348']),\n",
       " (2.13,\n",
       "  ['01/07/2016', '1985.32', '1985.32', '1938.83', '1943.09', '860517477']),\n",
       " (1.23,\n",
       "  ['01/08/2016', '1945.97', '1960.4', '1918.46', '1922.03', '800798104']),\n",
       " (0.13,\n",
       "  ['01/11/2016', '1926.12', '1935.65', '1901.1', '1923.67', '775646469']),\n",
       " (0.56,\n",
       "  ['01/12/2016', '1927.83', '1947.38', '1914.35', '1938.68', '759189614']),\n",
       " (2.58,\n",
       "  ['01/13/2016', '1940.34', '1950.33', '1886.41', '1890.28', '874565406']),\n",
       " (1.59,\n",
       "  ['01/14/2016', '1891.68', '1934.47', '1878.93', '1921.84', '920305719']),\n",
       " (1.9,\n",
       "  ['01/15/2016', '1916.68', '1916.68', '1857.83', '1880.33', '121200428'])]"
      ]
     },
     "execution_count": 15,
     "metadata": {},
     "output_type": "execute_result"
    }
   ],
   "source": [
    "values_l[0:10]"
   ]
  },
  {
   "cell_type": "code",
   "execution_count": 16,
   "id": "6c1b90c4",
   "metadata": {},
   "outputs": [
    {
     "name": "stdout",
     "output_type": "stream",
     "text": [
      "(1.25, ['01/04/2016', '2038.2', '2038.2', '1989.68', '2012.66', '802072115'])\n",
      "(2.13, ['01/07/2016', '1985.32', '1985.32', '1938.83', '1943.09', '860517477'])\n",
      "(2.58, ['01/13/2016', '1940.34', '1950.33', '1886.41', '1890.28', '874565406'])\n",
      "(3.16, ['06/24/2016', '2103.81', '2103.81', '2032.57', '2037.41', '330155996'])\n",
      "(3.36, ['02/05/2018', '2741.06', '2763.39', '2638.17', '2648.94', '3544117631'])\n",
      "(3.87, ['02/08/2018', '2685.01', '2685.27', '2580.56', '2581.0', '3249463483'])\n",
      "(4.43, ['12/26/2018', '2363.12', '2467.76', '2346.58', '2467.7', '2731627234'])\n",
      "(5.71, ['03/12/2020', '2630.86', '2660.95', '2478.86', '2480.64', '5218633781'])\n"
     ]
    }
   ],
   "source": [
    "max_value=0\n",
    "max_row = 0\n",
    "for t in values_l:\n",
    "    if t[0] > max_value:\n",
    "        print(t)\n",
    "        max_value = t[0]\n",
    "        max_row = t[1]"
   ]
  },
  {
   "cell_type": "code",
   "execution_count": 29,
   "id": "a80c5a1f",
   "metadata": {},
   "outputs": [
    {
     "data": {
      "text/plain": [
       "5.71"
      ]
     },
     "execution_count": 29,
     "metadata": {},
     "output_type": "execute_result"
    }
   ],
   "source": [
    "max_row\n",
    "max_value"
   ]
  },
  {
   "cell_type": "code",
   "execution_count": 31,
   "id": "9c930a79",
   "metadata": {},
   "outputs": [
    {
     "name": "stdout",
     "output_type": "stream",
     "text": [
      "The day with the greatest percent change was 03/12/2020 ,on that day the stock changed 5.71%.\n",
      "The high of that day was 2660.95, the low of that day was 2478.86.\n",
      "The volume for that day was 5218633781.\n"
     ]
    }
   ],
   "source": [
    "\n",
    "    \n",
    "print(f\"The day with the greatest percent change was {max_row[0]}\" +\" \"+ f\",on that day the stock changed {max_value}%.\\n\"\n",
    "+ f\"The high of that day was {max_row[2]}, the low of that day was {max_row[3]}.\\n\"+ f\"The volume for that day was {max_row[5]}.\" )\n"
   ]
  },
  {
   "cell_type": "code",
   "execution_count": null,
   "id": "efd379cd",
   "metadata": {},
   "outputs": [],
   "source": []
  },
  {
   "cell_type": "code",
   "execution_count": null,
   "id": "8ee2108f",
   "metadata": {},
   "outputs": [],
   "source": []
  },
  {
   "cell_type": "code",
   "execution_count": null,
   "id": "259c3c07",
   "metadata": {},
   "outputs": [],
   "source": []
  },
  {
   "cell_type": "code",
   "execution_count": null,
   "id": "cd4dcd61",
   "metadata": {},
   "outputs": [],
   "source": []
  },
  {
   "cell_type": "code",
   "execution_count": null,
   "id": "821137a7",
   "metadata": {},
   "outputs": [],
   "source": []
  },
  {
   "cell_type": "code",
   "execution_count": null,
   "id": "9cf5faa2",
   "metadata": {},
   "outputs": [],
   "source": []
  },
  {
   "cell_type": "code",
   "execution_count": null,
   "id": "a3d7280e",
   "metadata": {},
   "outputs": [],
   "source": []
  },
  {
   "cell_type": "code",
   "execution_count": null,
   "id": "06c8c9d4",
   "metadata": {},
   "outputs": [],
   "source": []
  },
  {
   "cell_type": "code",
   "execution_count": null,
   "id": "542229ab",
   "metadata": {},
   "outputs": [],
   "source": []
  },
  {
   "cell_type": "code",
   "execution_count": null,
   "id": "387fe4a7",
   "metadata": {},
   "outputs": [],
   "source": []
  }
 ],
 "metadata": {
  "kernelspec": {
   "display_name": "Python 3 (ipykernel)",
   "language": "python",
   "name": "python3"
  },
  "language_info": {
   "codemirror_mode": {
    "name": "ipython",
    "version": 3
   },
   "file_extension": ".py",
   "mimetype": "text/x-python",
   "name": "python",
   "nbconvert_exporter": "python",
   "pygments_lexer": "ipython3",
   "version": "3.9.7"
  }
 },
 "nbformat": 4,
 "nbformat_minor": 5
}
