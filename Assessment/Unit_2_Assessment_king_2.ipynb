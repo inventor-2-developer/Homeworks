{
 "cells": [
  {
   "cell_type": "markdown",
   "metadata": {},
   "source": [
    "# Instructions"
   ]
  },
  {
   "cell_type": "markdown",
   "metadata": {},
   "source": [
    "Read each of the following questions carefully, and provide an appropriate answer in the appropriate cell(s). Depending on the question, you may need to provide code or text. Be sure to label your answers with the question number so that they can be easily identified."
   ]
  },
  {
   "cell_type": "markdown",
   "metadata": {},
   "source": [
    "**Question 1: Which of the following statements is the correct way to import a csv into a Pandas DataFrame? (2 points)** \n",
    "\n",
    "A. \n",
    "\n",
    "```python\n",
    "import pandas as pd\n",
    "infile = pd.read_csv(file_name)\n",
    "```\n",
    "\n",
    "\n",
    "B. \n",
    "\n",
    "```python\n",
    "import pandas as pd\n",
    "infile = pd.readCSV(file_name)\n",
    "```\n",
    "\n",
    "\n",
    "C. \n",
    "\n",
    "```python\n",
    "import pandas as pd\n",
    "infile = read_file(file_name)\n",
    "```\n",
    "\n",
    "\n",
    "D. \n",
    "\n",
    "```python\n",
    "import pandas as pd\n",
    "df.read_file(file_name)\n",
    "```\n"
   ]
  },
  {
   "cell_type": "code",
   "execution_count": 1,
   "metadata": {},
   "outputs": [],
   "source": [
    "# Answer 1\n",
    "A"
   ]
  },
  {
   "cell_type": "markdown",
   "metadata": {},
   "source": [
    "**Question 2: Write the code to do the following: (5 points)**\n",
    "\n",
    "  1. Import the `student.json` file into a Pandas DataFrame named `grades`. \n",
    "\n",
    "  2. Create a new DataFrame named `passing` that contains only the students whose `Pass/Fail` status equals `\tPASS`. "
   ]
  },
  {
   "cell_type": "code",
   "execution_count": 37,
   "metadata": {},
   "outputs": [],
   "source": [
    "# Answer 2\n",
    "import pandas as pd\n",
    "import json\n",
    "\n",
    "with open(\"Resources/student.json \") as datafile:\n",
    "    data = json.load(datafile)\n",
    "    dataframe = pd.DataFrame(data)\n",
    "\n",
    "passing=dataframe[dataframe['Pass/Fail']=='PASS']\n",
    "#passing\n",
    "   \n"
   ]
  },
  {
   "cell_type": "markdown",
   "metadata": {},
   "source": [
    "**Question 3: Write the code to create a Pandas DataFrame with the following columns and values: (5 points)**\n",
    "\n",
    "* `Stock_Symbol`: AAPL, GOOG, TSLA, KO, MSFT\n",
    "* `Company_Name`: Apple, Google, Tesla, Coca-Cola, Microsoft\n",
    "* `52_Week_High`: 145.09, 1934.86, 900.40, 60.13, 242.64"
   ]
  },
  {
   "cell_type": "code",
   "execution_count": 39,
   "metadata": {},
   "outputs": [],
   "source": [
    "# Answer 3\n",
    "import pandas as pd\n",
    "\n",
    "data={'Stock_Symbol':['AAPL','GOOG','TSLA','KO','MSFT'],\n",
    "'Company_Name':['Apple','Google','Tesla','Coca-Cola','Microsoft'],\n",
    "'52_Week_High':[145.09,1934.86,900.40,60.13,242.64]}\n",
    "\n",
    "#pd.DataFrame.from_dict(data)\n"
   ]
  },
  {
   "cell_type": "markdown",
   "metadata": {},
   "source": [
    "**Question 4: Which of the following Git commands creates a new branch in your local repository? (2 points)**\n",
    "\n",
    "A. `git clone`\n",
    "\n",
    "B. `git pull <branch name>` \n",
    "\n",
    "C. `git checkout -b <branch name>`\n",
    "\n",
    "D. `git push -b <branch name>`"
   ]
  },
  {
   "cell_type": "code",
   "execution_count": 4,
   "metadata": {},
   "outputs": [],
   "source": [
    "# Answer 4\n",
    "C"
   ]
  },
  {
   "cell_type": "markdown",
   "metadata": {},
   "source": [
    "**Question 5: Write the code to perform the following operations: (10 points)**\n",
    "\n",
    "   1. Import the `bitcoin_cash_price.csv` file into a Pandas DataFrame called `bitcoin`.\n",
    "   \n",
    "   2. Import the `dash_price.csv` file into a Pandas DataFrame called `dash`.\n",
    "   \n",
    "   3. Merge the `bitcoin` and `dash` DataFrames by using the Date column as the identifier column. Name this new merged DataFrame `crypto`. \n",
    "   \n",
    "   4. Create a new Delta_Volume column in the `crypto` DataFrame that calculates the largest **absolute** difference between the Bitcoin volume and Dash volume.\n",
    "\n",
    "      * **Hint:** Use the `abs` function to calculate absolute value.\n",
    "  \n",
    "   5. Find the row in the `crypto` DataFrame that contains the maximum “Delta_Volume” value. Print the row. "
   ]
  },
  {
   "cell_type": "code",
   "execution_count": 41,
   "metadata": {},
   "outputs": [],
   "source": [
    "# Answer 5\n",
    "\n",
    "import pandas as pd\n",
    "import csv\n",
    "\n",
    "\n",
    "bitcoin=pd.read_csv('Resources/bitcoin_cash_price.csv')\n",
    "dash=pd.read_csv('Resources/dash_price.csv')\n",
    "crypto=pd.merge(bitcoin,dash,on=\"Date\")\n",
    "crypto['Delta_Volume'] =abs(bitcoin[\"Volume\"]-dash[\"Volume\"])\n",
    "\n",
    "counter=-1\n",
    "value=[]\n",
    "for x in crypto['Delta_Volume']:\n",
    "    value.append(x)\n",
    "max_value=(max(value))\n",
    "\n",
    "for x in crypto['Delta_Volume']:\n",
    "     counter=counter+1\n",
    "     if x==max_value:\n",
    "      iloc_value=counter\n",
    "#print(crypto.iloc[iloc_value])\n"
   ]
  },
  {
   "cell_type": "markdown",
   "metadata": {},
   "source": [
    "**Question 6: You are asked to rename the following three columns in a DataFrame: `listing_price`, `appraisal_price`, and `selling_price` to `List Price`, `Appraisal Price`, and `Selling Price`.  How do you rename these columns (3 points)**\n",
    "\n",
    "A. \n",
    "\n",
    "```python\n",
    "renamed_df = df.rename[columns={\"listing_price\":\"Listing Price\", \"appraisal_price\":\"Appraisal Price\"\n",
    "                                ,\"selling_price\":\"Selling Price\"}]\n",
    "```\n",
    "\n",
    "B.\n",
    "\n",
    "```python\n",
    "renamed_df = df.rename(columns={\"listing_price\":\"Listing Price\", \"appraisal_price\":\"Appraisal Price\"\n",
    "                                ,\"selling_price\":\"Selling Price\"})\n",
    "```\n",
    "\n",
    "C.\n",
    "\n",
    "```python\n",
    "renamed_df = df.rename{columns={\"listing_price\":\"Listing Price\", \"appraisal_price\":\"Appraisal Price\"\n",
    "                                ,\"selling_price\":\"Selling Price\"}}\n",
    "```\n",
    "\n",
    "D.\n",
    "\n",
    "```python\n",
    "renamed_df = df.rename({\"listing_price\":\"Listing Price\", \"appraisal_price\":\"Appraisal Price\"\n",
    "                                ,\"selling_price\":\"Selling Price\"})\n",
    "```"
   ]
  },
  {
   "cell_type": "code",
   "execution_count": 6,
   "metadata": {},
   "outputs": [],
   "source": [
    "# Answer 6\n",
    "B"
   ]
  },
  {
   "cell_type": "markdown",
   "metadata": {},
   "source": [
    "**Question 7: Import the `donors.csv` file into a Pandas DataFrame. Using the `groupby` function, create a Series with the average amount for each state. How many states have averages greater than or equal to $750.00? (5 points)**\n",
    "\n",
    "A. 10\n",
    "\n",
    "B. 11\n",
    "\n",
    "C. 9\n",
    "\n",
    "D. 8"
   ]
  },
  {
   "cell_type": "code",
   "execution_count": 43,
   "metadata": {},
   "outputs": [],
   "source": [
    "import pandas as pd\n",
    "import csv\n",
    "\n",
    "donors=pd.read_csv('Resources/donors2008.csv')\n",
    "new_donors=donors.groupby(['State']).mean()\n",
    "\n",
    "count=0\n",
    "for x in new_donors['Amount']:\n",
    "  if x >=750:\n",
    "      count=count+1\n",
    "\n",
    "#print(count)\n"
   ]
  },
  {
   "cell_type": "code",
   "execution_count": 8,
   "metadata": {},
   "outputs": [],
   "source": [
    "# Answer 7 \n",
    "C"
   ]
  },
  {
   "cell_type": "markdown",
   "metadata": {},
   "source": [
    "**Question 8: What piece of code defines the beginning of a Python function? (1 point)**\n",
    "\n",
    "\n",
    "A. `print_name()`\n",
    "\n",
    "B. `def`\n",
    "\n",
    "C. `def()`\n",
    "\n",
    "D. `define()`"
   ]
  },
  {
   "cell_type": "code",
   "execution_count": 9,
   "metadata": {},
   "outputs": [],
   "source": [
    "# Answer 8\n",
    "C"
   ]
  },
  {
   "cell_type": "markdown",
   "metadata": {},
   "source": [
    "**Question 9: Read in the `earthquakes_database.csv` file into a Pandas DataFrame. What day had the most earthquakes? (Hint: Use Pandas' built-in functions to find the answer.) (5 points)**\n",
    "\n",
    "A. `2/6/13`\n",
    "\n",
    "B. `12/26/04`\n",
    "\n",
    "C. `3/12/11`\n",
    "\n",
    "D. `3/11/11`"
   ]
  },
  {
   "cell_type": "code",
   "execution_count": 49,
   "metadata": {},
   "outputs": [],
   "source": [
    "import pandas as pd\n",
    "import pandas as pd\n",
    "earthquakes=pd.read_csv('Resources/earthquakes_database.csv')\n",
    "#earthquakes[\"Date\"].value_counts()\n"
   ]
  },
  {
   "cell_type": "code",
   "execution_count": 48,
   "metadata": {},
   "outputs": [],
   "source": [
    "# Answer 9\n",
    "D"
   ]
  },
  {
   "cell_type": "markdown",
   "metadata": {},
   "source": [
    "**Question 10: Write code that performs the following operations *without* using Pandas: (12 points)**\n",
    "\n",
    "1. Opens and reads the `cereal.csv` file. \n",
    "2. Skips the header row. \n",
    "3. Reads each row. \n",
    "4. Prints out the cereals that contain 5 or more grams of fiber."
   ]
  },
  {
   "cell_type": "code",
   "execution_count": 35,
   "metadata": {},
   "outputs": [
    {
     "name": "stdout",
     "output_type": "stream",
     "text": [
      "All-Bran\n",
      "Post Nat. Raisin Bran\n"
     ]
    }
   ],
   "source": [
    "import os\n",
    "import csv\n",
    "\n",
    "csvpath = os.path.join('Resources', 'cereal.csv')\n",
    "\n",
    "with open(csvpath) as csvfile:\n",
    "    csvreader = csv.reader(csvfile, delimiter=',')\n",
    "    csv_header=next(csvreader)\n",
    "\n",
    "    for row in csvreader:\n",
    "        if row[7]>'5':\n",
    "            print(row[0])\n",
    "    \n"
   ]
  },
  {
   "cell_type": "code",
   "execution_count": 13,
   "metadata": {},
   "outputs": [],
   "source": [
    "# Answer 10\n",
    "\n",
    "All-Bran\n",
    "Post Nat. Raisin Bran\n"
   ]
  }
 ],
 "metadata": {
  "kernelspec": {
   "display_name": "Python 3 (ipykernel)",
   "language": "python",
   "name": "python3"
  },
  "language_info": {
   "codemirror_mode": {
    "name": "ipython",
    "version": 3
   },
   "file_extension": ".py",
   "mimetype": "text/x-python",
   "name": "python",
   "nbconvert_exporter": "python",
   "pygments_lexer": "ipython3",
   "version": "3.9.7"
  }
 },
 "nbformat": 4,
 "nbformat_minor": 4
}
